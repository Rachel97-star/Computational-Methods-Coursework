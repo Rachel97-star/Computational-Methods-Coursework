{
 "cells": [
  {
   "cell_type": "code",
   "execution_count": 140,
   "metadata": {},
   "outputs": [],
   "source": [
    "import yfinance as yf\n",
    "import numpy as np\n",
    "import pandas as pd\n",
    "import matplotlib as mpl\n",
    "import matplotlib.pyplot as plt\n",
    "import scipy.stats as si\n",
    "import os"
   ]
  },
  {
   "cell_type": "code",
   "execution_count": 141,
   "metadata": {},
   "outputs": [
    {
     "name": "stdout",
     "output_type": "stream",
     "text": [
      "[*********************100%***********************]  1 of 1 completed\n"
     ]
    }
   ],
   "source": [
    "rcr = yf.download(\"AMZN\", start=\"2020-03-10\", end=\"2021-03-10\")"
   ]
  },
  {
   "cell_type": "code",
   "execution_count": 142,
   "metadata": {},
   "outputs": [
    {
     "data": {
      "text/html": [
       "<div>\n",
       "<style scoped>\n",
       "    .dataframe tbody tr th:only-of-type {\n",
       "        vertical-align: middle;\n",
       "    }\n",
       "\n",
       "    .dataframe tbody tr th {\n",
       "        vertical-align: top;\n",
       "    }\n",
       "\n",
       "    .dataframe thead th {\n",
       "        text-align: right;\n",
       "    }\n",
       "</style>\n",
       "<table border=\"1\" class=\"dataframe\">\n",
       "  <thead>\n",
       "    <tr style=\"text-align: right;\">\n",
       "      <th></th>\n",
       "      <th>Open</th>\n",
       "      <th>High</th>\n",
       "      <th>Low</th>\n",
       "      <th>Close</th>\n",
       "      <th>Adj Close</th>\n",
       "      <th>Volume</th>\n",
       "    </tr>\n",
       "    <tr>\n",
       "      <th>Date</th>\n",
       "      <th></th>\n",
       "      <th></th>\n",
       "      <th></th>\n",
       "      <th></th>\n",
       "      <th></th>\n",
       "      <th></th>\n",
       "    </tr>\n",
       "  </thead>\n",
       "  <tbody>\n",
       "    <tr>\n",
       "      <th>2020-03-10</th>\n",
       "      <td>1870.880005</td>\n",
       "      <td>1894.270020</td>\n",
       "      <td>1818.170044</td>\n",
       "      <td>1891.819946</td>\n",
       "      <td>1891.819946</td>\n",
       "      <td>7133300</td>\n",
       "    </tr>\n",
       "    <tr>\n",
       "      <th>2020-03-11</th>\n",
       "      <td>1857.849976</td>\n",
       "      <td>1871.319946</td>\n",
       "      <td>1801.500000</td>\n",
       "      <td>1820.859985</td>\n",
       "      <td>1820.859985</td>\n",
       "      <td>5624800</td>\n",
       "    </tr>\n",
       "    <tr>\n",
       "      <th>2020-03-12</th>\n",
       "      <td>1721.979980</td>\n",
       "      <td>1765.000000</td>\n",
       "      <td>1675.000000</td>\n",
       "      <td>1676.609985</td>\n",
       "      <td>1676.609985</td>\n",
       "      <td>11346200</td>\n",
       "    </tr>\n",
       "    <tr>\n",
       "      <th>2020-03-13</th>\n",
       "      <td>1755.000000</td>\n",
       "      <td>1786.310059</td>\n",
       "      <td>1680.619995</td>\n",
       "      <td>1785.000000</td>\n",
       "      <td>1785.000000</td>\n",
       "      <td>8809700</td>\n",
       "    </tr>\n",
       "    <tr>\n",
       "      <th>2020-03-16</th>\n",
       "      <td>1641.510010</td>\n",
       "      <td>1759.449951</td>\n",
       "      <td>1626.030029</td>\n",
       "      <td>1689.150024</td>\n",
       "      <td>1689.150024</td>\n",
       "      <td>8917300</td>\n",
       "    </tr>\n",
       "  </tbody>\n",
       "</table>\n",
       "</div>"
      ],
      "text/plain": [
       "                   Open         High          Low        Close    Adj Close  \\\n",
       "Date                                                                          \n",
       "2020-03-10  1870.880005  1894.270020  1818.170044  1891.819946  1891.819946   \n",
       "2020-03-11  1857.849976  1871.319946  1801.500000  1820.859985  1820.859985   \n",
       "2020-03-12  1721.979980  1765.000000  1675.000000  1676.609985  1676.609985   \n",
       "2020-03-13  1755.000000  1786.310059  1680.619995  1785.000000  1785.000000   \n",
       "2020-03-16  1641.510010  1759.449951  1626.030029  1689.150024  1689.150024   \n",
       "\n",
       "              Volume  \n",
       "Date                  \n",
       "2020-03-10   7133300  \n",
       "2020-03-11   5624800  \n",
       "2020-03-12  11346200  \n",
       "2020-03-13   8809700  \n",
       "2020-03-16   8917300  "
      ]
     },
     "execution_count": 142,
     "metadata": {},
     "output_type": "execute_result"
    }
   ],
   "source": [
    "rcr.head()"
   ]
  },
  {
   "cell_type": "code",
   "execution_count": 143,
   "metadata": {},
   "outputs": [
    {
     "data": {
      "text/plain": [
       "Date\n",
       "2020-03-10    1891.819946\n",
       "2020-03-11    1820.859985\n",
       "2020-03-12    1676.609985\n",
       "2020-03-13    1785.000000\n",
       "2020-03-16    1689.150024\n",
       "                 ...     \n",
       "2021-03-03    3005.000000\n",
       "2021-03-04    2977.570068\n",
       "2021-03-05    3000.459961\n",
       "2021-03-08    2951.949951\n",
       "2021-03-09    3062.850098\n",
       "Name: Adj Close, Length: 252, dtype: float64"
      ]
     },
     "execution_count": 143,
     "metadata": {},
     "output_type": "execute_result"
    }
   ],
   "source": [
    "rcr['Adj Close']"
   ]
  },
  {
   "cell_type": "code",
   "execution_count": 144,
   "metadata": {},
   "outputs": [],
   "source": [
    "rc = rcr['Adj Close']"
   ]
  },
  {
   "cell_type": "code",
   "execution_count": 145,
   "metadata": {},
   "outputs": [
    {
     "data": {
      "text/plain": [
       "Date\n",
       "2020-03-10    1891.819946\n",
       "2020-03-11    1820.859985\n",
       "2020-03-12    1676.609985\n",
       "2020-03-13    1785.000000\n",
       "2020-03-16    1689.150024\n",
       "                 ...     \n",
       "2021-03-03    3005.000000\n",
       "2021-03-04    2977.570068\n",
       "2021-03-05    3000.459961\n",
       "2021-03-08    2951.949951\n",
       "2021-03-09    3062.850098\n",
       "Name: Adj Close, Length: 252, dtype: float64"
      ]
     },
     "execution_count": 145,
     "metadata": {},
     "output_type": "execute_result"
    }
   ],
   "source": [
    "rc"
   ]
  },
  {
   "cell_type": "code",
   "execution_count": 146,
   "metadata": {},
   "outputs": [
    {
     "data": {
      "text/plain": [
       "<AxesSubplot:xlabel='Date'>"
      ]
     },
     "execution_count": 146,
     "metadata": {},
     "output_type": "execute_result"
    },
    {
     "data": {
      "image/png": "[encoded data removed]",
      "text/plain": [
       "<Figure size 720x432 with 1 Axes>"
      ]
     },
     "metadata": {
      "needs_background": "light"
     },
     "output_type": "display_data"
    }
   ],
   "source": [
    "rc.plot(figsize=(10, 6))"
   ]
  },
  {
   "cell_type": "code",
   "execution_count": 147,
   "metadata": {},
   "outputs": [
    {
     "data": {
      "text/plain": [
       "Date\n",
       "2020-03-10       NaN\n",
       "2020-03-11   -0.0382\n",
       "2020-03-12   -0.0825\n",
       "2020-03-13    0.0626\n",
       "2020-03-16   -0.0552\n",
       "Name: Adj Close, dtype: float64"
      ]
     },
     "execution_count": 147,
     "metadata": {},
     "output_type": "execute_result"
    }
   ],
   "source": [
    "logrc = np.log(rc / rc.shift(1))\n",
    "logrc.head().round(4)"
   ]
  },
  {
   "cell_type": "code",
   "execution_count": 148,
   "metadata": {},
   "outputs": [
    {
     "name": "stdout",
     "output_type": "stream",
     "text": [
      " volatility for one year is 0.37261605\n"
     ]
    }
   ],
   "source": [
    "vol = logrc.std() * (252 ** 0.5)\n",
    "print(' volatility for one year is %.8f' % (vol))"
   ]
  },
  {
   "cell_type": "code",
   "execution_count": 149,
   "metadata": {},
   "outputs": [],
   "source": [
    "cvol = logrc[126:-1]"
   ]
  },
  {
   "cell_type": "code",
   "execution_count": 150,
   "metadata": {},
   "outputs": [],
   "source": [
    "cvolc = cvol.std() * (252 ** 0.5)"
   ]
  },
  {
   "cell_type": "code",
   "execution_count": 151,
   "metadata": {},
   "outputs": [
    {
     "data": {
      "text/plain": [
       "0.32769862456002113"
      ]
     },
     "execution_count": 151,
     "metadata": {},
     "output_type": "execute_result"
    }
   ],
   "source": [
    "cvolc"
   ]
  },
  {
   "cell_type": "code",
   "execution_count": 152,
   "metadata": {},
   "outputs": [],
   "source": [
    "def binaryoption(S, St, T, rf, di, vol, pf):\n",
    "    \n",
    "    #S: spot price\n",
    "    #St: strike price\n",
    "    #T: time to maturity\n",
    "    #rf: risk free rate\n",
    "    #di: continuous dividend yield\n",
    "    #vol: volatility of underlying asset\n",
    "    #pf: call or put\n",
    "    \n",
    "    d1 = (np.log(S / St) + (rf - di + 0.5 * vol ** 2) * T) / (vol * np.sqrt(T))\n",
    "    d2 = (np.log(S / St) + (rf - di - 0.5 * vol ** 2) * T) / (vol * np.sqrt(T))\n",
    "    if pf == \"call\":\n",
    "        option_value = np.exp(-rf * T) * si.norm.cdf(d2, 0.0, 1.0)\n",
    "    elif pf == \"put\":\n",
    "        option_value = np.exp(-rf * T) * si.norm.cdf(-d2, 0.0, 1.0)\n",
    "    \n",
    "    return option_value"
   ]
  },
  {
   "cell_type": "code",
   "execution_count": 153,
   "metadata": {},
   "outputs": [
    {
     "data": {
      "text/plain": [
       "0.5576465825683506"
      ]
     },
     "execution_count": 153,
     "metadata": {},
     "output_type": "execute_result"
    }
   ],
   "source": [
    "binaryoption(3052.03,3087.07,1/12,0.0167,0,0.3726,'put')"
   ]
  },
  {
   "cell_type": "code",
   "execution_count": 154,
   "metadata": {},
   "outputs": [],
   "source": [
    "def delta(S,St,T,rf,di,vol,pf):\n",
    "    d1 = (np.log(S/St) + (rf + 0.5 * vol **2)*T)/(vol * np.sqrt(T))\n",
    "    d2 = (np.log(S/St) + (rf - 0.5 * vol **2)*T)/(vol * np.sqrt(T))\n",
    "    \n",
    "    if pf == 'call':\n",
    "        delta =  (np.exp(-rf*T))*si.norm.pdf(d2,0.0,1.0)/(vol*S*np.sqrt(T))\n",
    "    elif pf == 'put':\n",
    "        delta = -(np.exp(-rf*T)*si.norm.pdf(d2,0.0,1.0))/(vol*S*np.sqrt(T))\n",
    "\n",
    "    return delta"
   ]
  },
  {
   "cell_type": "code",
   "execution_count": 155,
   "metadata": {},
   "outputs": [
    {
     "data": {
      "text/plain": [
       "-0.0012005328843442264"
      ]
     },
     "execution_count": 155,
     "metadata": {},
     "output_type": "execute_result"
    }
   ],
   "source": [
    "delta(3052.03,3087.07,1/12,0.0167,0,0.3726,'put')"
   ]
  },
  {
   "cell_type": "code",
   "execution_count": 156,
   "metadata": {},
   "outputs": [],
   "source": [
    "def gamma(S,St,T,rf,di,vol,pf):\n",
    "    d1 = (np.log(S/St) + (rf + 0.5 * vol **2)*T)/(vol * np.sqrt(T))\n",
    "    d2 = (np.log(S/St) + (rf - 0.5 * vol **2)*T)/(vol * np.sqrt(T))\n",
    "    \n",
    "    if pf == 'call':\n",
    "        gamma = (np.exp(-rf*T)*d1*si.norm.pdf(d2,0.0,1.0))/((vol**2)*(S**2)*(T))\n",
    "    elif pf == 'put':\n",
    "        gamma = -(np.exp(-rf*T)*d1*si.norm.pdf(d2,0.0,1.0))/((vol**2)*(S**2)*(T))\n",
    "\n",
    "    return gamma"
   ]
  },
  {
   "cell_type": "code",
   "execution_count": 157,
   "metadata": {},
   "outputs": [
    {
     "data": {
      "text/plain": [
       "1.4413330285238026e-07"
      ]
     },
     "execution_count": 157,
     "metadata": {},
     "output_type": "execute_result"
    }
   ],
   "source": [
    "gamma(3052.03,3087.07,1/12,0.0167,0,0.3726,'put')"
   ]
  },
  {
   "cell_type": "code",
   "execution_count": 158,
   "metadata": {},
   "outputs": [],
   "source": [
    "def theta(S,St,T,rf,di,vol,pf):\n",
    "    d1 = (np.log(S/St) + (rf + 0.5 * vol **2)*T)/(vol * np.sqrt(T))\n",
    "    d2 = (np.log(S/St) + (rf - 0.5 * vol **2)*T)/(vol * np.sqrt(T))\n",
    "    a = d1/(2*T)\n",
    "    b = (rf-di)/(vol*np.sqrt(T))\n",
    "    if pf == 'call':\n",
    "        theta = (rf* np.exp(-rf*T)*(si.norm.cdf(d2,0.0,1.0)))+(np.exp(-rf*T)*si.norm.pdf(d2,0.0,1.0))* (a-b)\n",
    "    elif pf == 'put':\n",
    "        theta = (rf* np.exp(-rf*T)*(1- si.norm.cdf(d2,0.0,1.0)))-(np.exp(-rf*T)*si.norm.pdf(d2,0.0,1.0))* (a-b)\n",
    "\n",
    "    return theta"
   ]
  },
  {
   "cell_type": "code",
   "execution_count": 159,
   "metadata": {},
   "outputs": [
    {
     "data": {
      "text/plain": [
       "0.1636986186048526"
      ]
     },
     "execution_count": 159,
     "metadata": {},
     "output_type": "execute_result"
    }
   ],
   "source": [
    "theta(3052.03,3087.07,1/12,0.0167,0,0.3726,'put')"
   ]
  },
  {
   "cell_type": "code",
   "execution_count": 160,
   "metadata": {},
   "outputs": [],
   "source": [
    "def speed(S,St,T,rf,di,vol,pf):\n",
    "    d1 = (np.log(S/St) + (rf + 0.5 * vol **2)*T)/(vol * np.sqrt(T))\n",
    "    d2 = (np.log(S/St) + (rf - 0.5 * vol **2)*T)/(vol * np.sqrt(T))\n",
    "    a= (np.exp(-rf*T)*si.norm.pdf(d2,0.0,1.0))/((vol**2)*(S**3)*(T))\n",
    "    b= ((-2*d1)+((1-(d1*d2))/(vol*np.sqrt(T))))\n",
    "    \n",
    "    if pf == 'call':\n",
    "        speed = -a*b\n",
    "    elif pf == 'put':\n",
    "        speed = a*b\n",
    "\n",
    "    return speed\n",
    "    "
   ]
  },
  {
   "cell_type": "code",
   "execution_count": 161,
   "metadata": {},
   "outputs": [
    {
     "data": {
      "text/plain": [
       "1.1170095958619412e-08"
      ]
     },
     "execution_count": 161,
     "metadata": {},
     "output_type": "execute_result"
    }
   ],
   "source": [
    "speed(3052.03,3087.07,1/12,0.0167,0,0.3726,'put')"
   ]
  },
  {
   "cell_type": "code",
   "execution_count": 162,
   "metadata": {},
   "outputs": [],
   "source": [
    "def vega(S,St,T,rf,di,vol,pf):\n",
    "    d1 = (np.log(S/St) + (rf + 0.5 * vol **2)*T)/(vol * np.sqrt(T))\n",
    "    d2 = (np.log(S/St) + (rf - 0.5 * vol **2)*T)/(vol * np.sqrt(T))\n",
    "    a = (np.sqrt(T) + ((d2)/vol))   \n",
    "    if pf == 'call':\n",
    "        vega = (-np.exp(-rf*T)*si.norm.pdf(d2,0.0,1.0)) * a\n",
    "    elif pf == 'put':\n",
    "        vega = (np.exp(-rf*T)*si.norm.pdf(d2,0.0,1.0)) * a\n",
    "            \n",
    "    return vega"
   ]
  },
  {
   "cell_type": "code",
   "execution_count": 163,
   "metadata": {},
   "outputs": [
    {
     "data": {
      "text/plain": [
       "-0.04168727811172656"
      ]
     },
     "execution_count": 163,
     "metadata": {},
     "output_type": "execute_result"
    }
   ],
   "source": [
    "vega(3052.03,3087.07,1/12,0.0167,0,0.3726,'put')"
   ]
  },
  {
   "cell_type": "code",
   "execution_count": 164,
   "metadata": {},
   "outputs": [],
   "source": [
    "S = 3052.03              # spot stock price\n",
    "St = 3087.07               # strike\n",
    "T = 1/12                 # maturity \n",
    "rf = 0.0167                 # risk free rate \n",
    "vol = 0.3726               # diffusion coefficient or volatility\n",
    "N = 3                   # number of periods or number of time steps  \n",
    "payoff = \"put\"          # payoff"
   ]
  },
  {
   "cell_type": "code",
   "execution_count": 165,
   "metadata": {},
   "outputs": [],
   "source": [
    "dT = float(T) / N                             # Delta t\n",
    "u = np.exp(vol * np.sqrt(dT))                 # up factor\n",
    "d = 1.0 / u                                   # down factor"
   ]
  },
  {
   "cell_type": "code",
   "execution_count": 166,
   "metadata": {},
   "outputs": [],
   "source": [
    "Sc = np.zeros((N + 1, N + 1))\n",
    "Sc[0, 0] = S\n",
    "z = 1\n",
    "for t in range(1, N + 1):\n",
    "    for i in range(z):\n",
    "        Sc[i, t] = Sc[i, t-1] * u\n",
    "        Sc[i+1, t] = Sc[i, t-1] * d\n",
    "    z += 1"
   ]
  },
  {
   "cell_type": "code",
   "execution_count": 167,
   "metadata": {},
   "outputs": [
    {
     "data": {
      "text/plain": [
       "array([[3052.03      , 3247.56973572, 3455.63745715, 3677.03581664],\n",
       "       [   0.        , 2868.26392624, 3052.03      , 3247.56973572],\n",
       "       [   0.        ,    0.        , 2695.56260933, 2868.26392624],\n",
       "       [   0.        ,    0.        ,    0.        , 2533.25982814]])"
      ]
     },
     "execution_count": 167,
     "metadata": {},
     "output_type": "execute_result"
    }
   ],
   "source": [
    "Sc"
   ]
  },
  {
   "cell_type": "code",
   "execution_count": 168,
   "metadata": {},
   "outputs": [
    {
     "data": {
      "text/plain": [
       "0.48821346886357236"
      ]
     },
     "execution_count": 168,
     "metadata": {},
     "output_type": "execute_result"
    }
   ],
   "source": [
    "a = np.exp(rf * dT)    # risk free compound return\n",
    "p = (a - d)/ (u - d)  # risk neutral up probability\n",
    "q = 1.0 - p           # risk neutral down probability\n",
    "p"
   ]
  },
  {
   "cell_type": "code",
   "execution_count": 186,
   "metadata": {},
   "outputs": [
    {
     "data": {
      "text/plain": [
       "array([[0., 0., 0., 0.],\n",
       "       [0., 0., 0., 0.],\n",
       "       [0., 0., 0., 1.],\n",
       "       [0., 0., 0., 1.]])"
      ]
     },
     "execution_count": 186,
     "metadata": {},
     "output_type": "execute_result"
    }
   ],
   "source": [
    "S_T = Sc[:,-1]\n",
    "V = np.zeros((N + 1, N + 1))\n",
    "if payoff ==\"call\":\n",
    "    V[:,-1] = np.heaviside(S_T-St, 0.0)\n",
    "elif payoff ==\"put\":\n",
    "    V[:,-1] = np.heaviside(St-S_T, 0.0)\n",
    "V"
   ]
  },
  {
   "cell_type": "code",
   "execution_count": 199,
   "metadata": {},
   "outputs": [
    {
     "ename": "TypeError",
     "evalue": "'float' object is not subscriptable",
     "output_type": "error",
     "traceback": [
      "\u001b[1;31m---------------------------------------------------------------------------\u001b[0m",
      "\u001b[1;31mTypeError\u001b[0m                                 Traceback (most recent call last)",
      "\u001b[1;32m<ipython-input-199-e581b757ee8c>\u001b[0m in \u001b[0;36m<module>\u001b[1;34m\u001b[0m\n\u001b[0;32m      6\u001b[0m     \u001b[1;32mfor\u001b[0m \u001b[0mj\u001b[0m \u001b[1;32min\u001b[0m \u001b[0mrange\u001b[0m\u001b[1;33m(\u001b[0m\u001b[0mN\u001b[0m\u001b[1;33m-\u001b[0m\u001b[1;36m1\u001b[0m\u001b[1;33m,\u001b[0m\u001b[1;33m-\u001b[0m\u001b[1;36m1\u001b[0m\u001b[1;33m,\u001b[0m\u001b[1;33m-\u001b[0m\u001b[1;36m1\u001b[0m\u001b[1;33m)\u001b[0m\u001b[1;33m:\u001b[0m\u001b[1;33m\u001b[0m\u001b[1;33m\u001b[0m\u001b[0m\n\u001b[0;32m      7\u001b[0m         \u001b[1;32mfor\u001b[0m \u001b[0mi\u001b[0m \u001b[1;32min\u001b[0m \u001b[0mrange\u001b[0m\u001b[1;33m(\u001b[0m\u001b[0mj\u001b[0m\u001b[1;33m+\u001b[0m\u001b[1;36m1\u001b[0m\u001b[1;33m)\u001b[0m\u001b[1;33m:\u001b[0m\u001b[1;33m\u001b[0m\u001b[1;33m\u001b[0m\u001b[0m\n\u001b[1;32m----> 8\u001b[1;33m             \u001b[0mV\u001b[0m\u001b[1;33m[\u001b[0m\u001b[0mi\u001b[0m\u001b[1;33m,\u001b[0m\u001b[0mj\u001b[0m\u001b[1;33m]\u001b[0m \u001b[1;33m=\u001b[0m \u001b[0mnp\u001b[0m\u001b[1;33m.\u001b[0m\u001b[0mheaviside\u001b[0m\u001b[1;33m(\u001b[0m\u001b[0mSt\u001b[0m \u001b[1;33m-\u001b[0m \u001b[0mS\u001b[0m\u001b[1;33m[\u001b[0m\u001b[0mi\u001b[0m\u001b[1;33m,\u001b[0m\u001b[0mj\u001b[0m\u001b[1;33m]\u001b[0m\u001b[1;33m,\u001b[0m\u001b[0mnp\u001b[0m\u001b[1;33m.\u001b[0m\u001b[0mexp\u001b[0m\u001b[1;33m(\u001b[0m\u001b[1;33m-\u001b[0m\u001b[0mrf\u001b[0m\u001b[1;33m*\u001b[0m\u001b[0mdT\u001b[0m\u001b[1;33m)\u001b[0m \u001b[1;33m*\u001b[0m \u001b[1;33m(\u001b[0m\u001b[0mp\u001b[0m \u001b[1;33m*\u001b[0m \u001b[0mV\u001b[0m\u001b[1;33m[\u001b[0m\u001b[0mi\u001b[0m\u001b[1;33m,\u001b[0m\u001b[0mj\u001b[0m\u001b[1;33m+\u001b[0m\u001b[1;36m1\u001b[0m\u001b[1;33m]\u001b[0m \u001b[1;33m+\u001b[0m \u001b[0mq\u001b[0m \u001b[1;33m*\u001b[0m \u001b[0mV\u001b[0m\u001b[1;33m[\u001b[0m\u001b[0mi\u001b[0m\u001b[1;33m+\u001b[0m \u001b[1;36m1\u001b[0m\u001b[1;33m,\u001b[0m\u001b[0mj\u001b[0m\u001b[1;33m+\u001b[0m\u001b[1;36m1\u001b[0m\u001b[1;33m]\u001b[0m\u001b[1;33m)\u001b[0m\u001b[1;33m)\u001b[0m\u001b[1;33m\u001b[0m\u001b[1;33m\u001b[0m\u001b[0m\n\u001b[0m\u001b[0;32m      9\u001b[0m \u001b[0mV\u001b[0m\u001b[1;33m\u001b[0m\u001b[1;33m\u001b[0m\u001b[0m\n",
      "\u001b[1;31mTypeError\u001b[0m: 'float' object is not subscriptable"
     ]
    }
   ],
   "source": [
    "if payoff ==\"call\":\n",
    "    for j in range(N-1, -1, -1):\n",
    "        for i in range(j+1):\n",
    "            V[i,j] = np.heaviside(S[i,j] - St,np.exp(-rf*dT) * (p * V[i,j + 1] + q * V[i + 1,j + 1]))\n",
    "elif payoff ==\"put\":\n",
    "    for j in range(N-1,-1,-1):\n",
    "        for i in range(j+1):\n",
    "            V[i,j] = np.heaviside(St - S[i,j],np.exp(-rf*dT) * (p * V[i,j+1] + q * V[i+ 1,j+1]))\n",
    "V"
   ]
  },
  {
   "cell_type": "code",
   "execution_count": null,
   "metadata": {},
   "outputs": [],
   "source": []
  },
  {
   "cell_type": "code",
   "execution_count": null,
   "metadata": {},
   "outputs": [],
   "source": []
  },
  {
   "cell_type": "code",
   "execution_count": null,
   "metadata": {},
   "outputs": [],
   "source": []
  }
 ],
 "metadata": {
  "kernelspec": {
   "display_name": "Python 3",
   "language": "python",
   "name": "python3"
  },
  "language_info": {
   "codemirror_mode": {
    "name": "ipython",
    "version": 3
   },
   "file_extension": ".py",
   "mimetype": "text/x-python",
   "name": "python",
   "nbconvert_exporter": "python",
   "pygments_lexer": "ipython3",
   "version": "3.8.5"
  }
 },
 "nbformat": 4,
 "nbformat_minor": 4
}
